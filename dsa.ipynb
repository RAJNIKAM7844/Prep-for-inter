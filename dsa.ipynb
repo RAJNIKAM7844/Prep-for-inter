{
  "nbformat": 4,
  "nbformat_minor": 0,
  "metadata": {
    "colab": {
      "provenance": [],
      "authorship_tag": "ABX9TyOrjnKts68bSt9cuwQ6MiRx",
      "include_colab_link": true
    },
    "kernelspec": {
      "name": "python3",
      "display_name": "Python 3"
    },
    "language_info": {
      "name": "python"
    }
  },
  "cells": [
    {
      "cell_type": "markdown",
      "metadata": {
        "id": "view-in-github",
        "colab_type": "text"
      },
      "source": [
        "<a href=\"https://colab.research.google.com/github/RAJNIKAM7844/Prep-for-inter/blob/main/dsa.ipynb\" target=\"_parent\"><img src=\"https://colab.research.google.com/assets/colab-badge.svg\" alt=\"Open In Colab\"/></a>"
      ]
    },
    {
      "cell_type": "code",
      "execution_count": 14,
      "metadata": {
        "id": "4ozxqWEkRWhL"
      },
      "outputs": [],
      "source": [
        "# LL: Constructor\n",
        "\n",
        "# You are tasked with implementing a basic data structure: a singly linked list.\n",
        "\n",
        "# To accomplish this, you will create two classes, Node and LinkedList.\n",
        "\n",
        "# The Node class will represent an individual node within the linked list, while the LinkedList class will manage the overall list structure.\n",
        "\n",
        "# Your implementation should satisfy the following requirements:\n",
        "\n",
        "# Create a Node class with the following features:\n",
        "\n",
        "# A constructor that takes a value as an argument and initializes the value attribute of the node.\n",
        "\n",
        "# A next attribute, initialized to None, which will store a reference to the next node in the list.\n",
        "\n",
        "# Create a LinkedList class with the following features:\n",
        "\n",
        "# A constructor that takes a value as an argument, creates a new Node with that value, and initializes the head and tail attributes of the linked list to point to the new node.\n",
        "\n",
        "# A length attribute, initialized to 1, which represents the current number of nodes in the list.\n",
        "\n",
        "\n",
        "class Node:\n",
        "  def __init__(self,value):\n",
        "    self.value = value\n",
        "    self.next = None\n",
        "\n",
        "\n",
        "class LinkedList:\n",
        "  def __init__(self, value):\n",
        "      new_node = Node(value)\n",
        "      self.head = new_node\n",
        "      self.tail = new_node\n",
        "      self.length=1\n",
        "\n",
        "\n",
        "\n",
        "\n",
        "\n",
        "\n"
      ]
    },
    {
      "cell_type": "code",
      "source": [
        "# LL: Print List\n",
        "# # Implement a method print_list(self) that prints the linked list's elements, one per line.\n",
        "\n",
        "\n",
        "\n",
        "def print_list(self):\n",
        "  temp = self.head\n",
        "  while temp is not None:\n",
        "    print(temp.value)\n",
        "    temp = temp.next\n",
        "\n",
        "print_list(LinkedList(4))\n",
        "print_list(LinkedList(2))\n",
        "print_list(LinkedList(1))\n"
      ],
      "metadata": {
        "colab": {
          "base_uri": "https://localhost:8080/"
        },
        "id": "--ZeVuXjbn36",
        "outputId": "8719fa4c-1105-4e78-9de6-1d7f541a94a4"
      },
      "execution_count": 15,
      "outputs": [
        {
          "output_type": "stream",
          "name": "stdout",
          "text": [
            "4\n",
            "2\n",
            "1\n"
          ]
        }
      ]
    },
    {
      "cell_type": "code",
      "source": [
        "# LL: Append AND MAKE EMPTY\n",
        "# Implement the append method for the LinkedList class.\n",
        "\n",
        "# The append method should add a new node with a given value to the end of the linked list, updating the tail attribute and the length attribute accordingly.\n",
        "\n",
        "# Keep in mind the following requirements:\n",
        "\n",
        "# The method should handle the cases where the list is empty and where the list already has one or more nodes.\n",
        "\n",
        "# The method should create a new node with the given value and add it to the end of the list.\n",
        "\n",
        "# The method should update the tail attribute of the LinkedList correctly.\n",
        "\n",
        "# The method should update the length attribute of the LinkedList to reflect the addition of the new node.\n",
        "\n",
        "class Node:\n",
        "    def __init__(self, value):\n",
        "        self.value = value\n",
        "        self.next = None\n",
        "\n",
        "\n",
        "class LinkedList:\n",
        "    def __init__(self, value):\n",
        "        new_node = Node(value)\n",
        "        self.head = new_node\n",
        "        self.tail = new_node\n",
        "        self.length = 1\n",
        "\n",
        "    def print_list(self):\n",
        "        temp = self.head\n",
        "        while temp is not None:\n",
        "            print(temp.value)\n",
        "            temp = temp.next\n",
        "\n",
        "    def make_empty(self):\n",
        "        self.head = None\n",
        "        self.tail = None\n",
        "        self.length = 0\n",
        "\n",
        "    def append(self, value):\n",
        "        new_node = Node(value)\n",
        "        new_node= Node(value)\n",
        "        if self.head is None:\n",
        "          self.head = new_node\n",
        "          self.tail = new_node\n",
        "        else:\n",
        "          self.tail.next = new_node\n",
        "          self.tail = new_node\n",
        "        self.length+=1\n",
        "\n",
        "\n",
        "\n",
        "\n",
        "my_linked_list = LinkedList(1)\n",
        "my_linked_list.make_empty()\n",
        "\n",
        "my_linked_list.append(1)\n",
        "my_linked_list.append(2)\n",
        "\n",
        "print('Head:', my_linked_list.head.value)\n",
        "print('Tail:', my_linked_list.tail.value)\n",
        "print('Length:', my_linked_list.length, '\\n')\n",
        "\n",
        "print('Linked List:')\n",
        "my_linked_list.print_list()\n",
        "\n",
        "\n",
        "\n",
        "\"\"\"\n",
        "    EXPECTED OUTPUT:\n",
        "    ----------------\n",
        "    Head: 1\n",
        "    Tail: 2\n",
        "    Length: 2\n",
        "\n",
        "    Linked List:\n",
        "    1\n",
        "    2\n",
        "\n",
        "\"\"\"\n",
        "\n",
        "\n"
      ],
      "metadata": {
        "colab": {
          "base_uri": "https://localhost:8080/",
          "height": 175
        },
        "id": "SLC7rhoRkLei",
        "outputId": "be85ab32-d57f-433c-eb3e-fd9a8bb93745"
      },
      "execution_count": 30,
      "outputs": [
        {
          "output_type": "stream",
          "name": "stdout",
          "text": [
            "Head: 1\n",
            "Tail: 2\n",
            "Length: 2 \n",
            "\n",
            "Linked List:\n",
            "1\n",
            "2\n"
          ]
        },
        {
          "output_type": "execute_result",
          "data": {
            "text/plain": [
              "'\\n    EXPECTED OUTPUT:\\n    ----------------\\n    Head: 1\\n    Tail: 2\\n    Length: 2 \\n\\n    Linked List:\\n    1\\n    2\\n    \\n'"
            ],
            "application/vnd.google.colaboratory.intrinsic+json": {
              "type": "string"
            }
          },
          "metadata": {},
          "execution_count": 30
        }
      ]
    },
    {
      "cell_type": "code",
      "source": [
        "# LL: Pop\n",
        "# Your task is to implement the pop method for the LinkedList class.\n",
        "\n",
        "# The pop method should remove the last node (tail) from the linked list and return the removed node. If the list is empty, the method should return None.\n",
        "\n",
        "# After the last node is removed, the second-to-last node should become the new tail of the list.\n",
        "\n",
        "# Additionally, if the list becomes empty after the pop operation, both the head and tail attributes should be set to None.\n",
        "\n",
        "# Keep in mind the following requirements:\n",
        "\n",
        "# The method should handle the cases where the list is empty, has only one node, or has multiple nodes.\n",
        "\n",
        "# The method should update the tail attribute of the LinkedList correctly.\n",
        "\n",
        "# The method should update the length attribute of the LinkedList to reflect the removal of the node.\n",
        "\n",
        "# The method should either return the removed node or None if the list is empty.\n",
        "\n",
        "\n",
        "def pop(self, next ,value):\n",
        "  if self.length == 0:\n",
        "    return \"Null\"\n",
        "  temp = self.head\n",
        "  pre = self.head\n",
        "  while (temp.next):\n",
        "    pre = temp\n",
        "    temp = temp.next\n",
        "  self.tail = pre\n",
        "  self.tail.next =None\n",
        "  self.length -=1\n",
        "  if self.length ==0 :\n",
        "    self.head = None\n",
        "    self.tail = None\n",
        "  return temp\n",
        "\n",
        "\n",
        "\n",
        "\n",
        "\n",
        "\n",
        "\n",
        "\n"
      ],
      "metadata": {
        "id": "8QnsIM1qkfK7"
      },
      "execution_count": 32,
      "outputs": []
    },
    {
      "cell_type": "code",
      "source": [
        "# LL: Prepend\n",
        "# Implement the prepend method for the LinkedList class.\n",
        "\n",
        "# The prepend method should add a new node with a given value to the beginning of the linked list, updating the head attribute and the length attribute accordingly.\n",
        "\n",
        "# Keep in mind the following requirements:\n",
        "\n",
        "# The method should handle the cases where the list is empty and where the list already has one or more nodes.\n",
        "\n",
        "# The method should create a new node with the given value and add it to the beginning of the list.\n",
        "\n",
        "# The method should update the head attribute of the LinkedList correctly.\n",
        "\n",
        "# The method should update the length attribute of the LinkedList to reflect the addition of the new node.\n",
        "\n",
        "# The method should return True if the operation is successful.\n",
        "\n",
        " # Define the prepend method for the LinkedList class\n",
        "def prepend(self, value):\n",
        "        # Create a new Node with the given value\n",
        "        new_node = Node(value)\n",
        "\n",
        "        # Check if the linked list is empty\n",
        "        if self.length == 0:\n",
        "            # Set the head and tail attributes to the new node\n",
        "            self.head = new_node\n",
        "            self.tail = new_node\n",
        "        else:\n",
        "            # Set the next attribute of the new node to the current head\n",
        "            new_node.next = self.head\n",
        "            # Update the head attribute to the new node\n",
        "            self.head = new_node\n",
        "\n",
        "        # Increment the length attribute of the LinkedList\n",
        "        self.length += 1\n",
        "\n",
        "        # Return True to indicate a successful operation\n",
        "        return True\n",
        "\n"
      ],
      "metadata": {
        "id": "ZTDAtrhtyIms"
      },
      "execution_count": 31,
      "outputs": []
    }
  ]
}